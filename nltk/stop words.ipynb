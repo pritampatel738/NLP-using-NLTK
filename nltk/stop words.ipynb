{
 "cells": [
  {
   "cell_type": "code",
   "execution_count": 6,
   "metadata": {
    "collapsed": true
   },
   "outputs": [],
   "source": [
    "import nltk"
   ]
  },
  {
   "cell_type": "code",
   "execution_count": 7,
   "metadata": {
    "collapsed": true
   },
   "outputs": [],
   "source": [
    "# stop words...\n",
    "from nltk.corpus import stopwords\n",
    "from nltk.tokenize import word_tokenize"
   ]
  },
  {
   "cell_type": "code",
   "execution_count": 9,
   "metadata": {},
   "outputs": [],
   "source": [
    "example_sentence=\"This is an example showing off stop word filtration\"\n",
    "stop_words=set(stopwords.words(\"english\"))\n",
    "words=word_tokenize(example_sentence)\n"
   ]
  },
  {
   "cell_type": "code",
   "execution_count": null,
   "metadata": {
    "collapsed": true
   },
   "outputs": [],
   "source": []
  },
  {
   "cell_type": "code",
   "execution_count": 10,
   "metadata": {},
   "outputs": [
    {
     "name": "stdout",
     "output_type": "stream",
     "text": [
      "['This', 'example', 'showing', 'stop', 'word', 'filtration']\n"
     ]
    }
   ],
   "source": [
    "filtered_example=[w for w in words if not w in stop_words]\n",
    "print(filtered_example)"
   ]
  },
  {
   "cell_type": "code",
   "execution_count": null,
   "metadata": {
    "collapsed": true
   },
   "outputs": [],
   "source": []
  },
  {
   "cell_type": "code",
   "execution_count": 20,
   "metadata": {},
   "outputs": [
    {
     "name": "stdout",
     "output_type": "stream",
     "text": [
      "153\n",
      "\n",
      "{'not', 'any', 'your', 'haven', 'as', 'that', 'been', 'theirs', 'a', 's', 'mustn', 'yourselves', 'very', 'in', 'further', 'during', 'over', 'myself', 'o', 'below', 'here', 'i', 'hadn', 'most', 'about', 'each', 'why', 'weren', 'does', 'under', 'me', 'she', 'no', 'this', 'be', 'then', 'through', 'where', 'before', 'can', 'or', 'y', 'off', 'wasn', 'but', 'he', 'at', 'mightn', 'were', 'ma', 'shan', 'now', 'won', 'down', 'all', 'll', 'my', 'did', 'should', 'above', 'there', 'against', 'what', 'both', 'ours', 'are', 'being', 'just', 'do', 'don', 'its', 'only', 'into', 'own', 'because', 'doing', 'shouldn', 'aren', 'him', 'm', 'with', 't', 'after', 'other', 'wouldn', 'they', 'until', 'am', 'few', 'our', 'didn', 'have', 'which', 'these', 'if', 'itself', 'once', 'and', 'between', 'an', 'her', 'we', 'himself', 'yours', 're', 'too', 'those', 'had', 'whom', 'herself', 'more', 'while', 'from', 'has', 'yourself', 'isn', 'having', 'for', 'couldn', 'some', 'than', 'his', 'themselves', 'of', 'to', 'who', 'by', 'out', 'on', 'same', 'nor', 've', 'ourselves', 'such', 'the', 'when', 'hers', 'up', 'again', 'them', 'so', 'ain', 'how', 'it', 'you', 'their', 'needn', 'hasn', 'd', 'will', 'was', 'is', 'doesn'}\n"
     ]
    }
   ],
   "source": [
    "print(len(stop_words),end=\"\\n\\n\")\n",
    "print(stop_words)"
   ]
  },
  {
   "cell_type": "code",
   "execution_count": null,
   "metadata": {
    "collapsed": true
   },
   "outputs": [],
   "source": []
  },
  {
   "cell_type": "code",
   "execution_count": null,
   "metadata": {
    "collapsed": true
   },
   "outputs": [],
   "source": []
  },
  {
   "cell_type": "code",
   "execution_count": null,
   "metadata": {
    "collapsed": true
   },
   "outputs": [],
   "source": []
  },
  {
   "cell_type": "code",
   "execution_count": null,
   "metadata": {
    "collapsed": true
   },
   "outputs": [],
   "source": []
  },
  {
   "cell_type": "code",
   "execution_count": null,
   "metadata": {
    "collapsed": true
   },
   "outputs": [],
   "source": []
  },
  {
   "cell_type": "code",
   "execution_count": null,
   "metadata": {
    "collapsed": true
   },
   "outputs": [],
   "source": []
  },
  {
   "cell_type": "code",
   "execution_count": null,
   "metadata": {
    "collapsed": true
   },
   "outputs": [],
   "source": []
  },
  {
   "cell_type": "code",
   "execution_count": null,
   "metadata": {
    "collapsed": true
   },
   "outputs": [],
   "source": []
  },
  {
   "cell_type": "code",
   "execution_count": null,
   "metadata": {
    "collapsed": true
   },
   "outputs": [],
   "source": []
  },
  {
   "cell_type": "code",
   "execution_count": null,
   "metadata": {
    "collapsed": true
   },
   "outputs": [],
   "source": []
  },
  {
   "cell_type": "code",
   "execution_count": null,
   "metadata": {
    "collapsed": true
   },
   "outputs": [],
   "source": []
  },
  {
   "cell_type": "code",
   "execution_count": null,
   "metadata": {
    "collapsed": true
   },
   "outputs": [],
   "source": []
  }
 ],
 "metadata": {
  "kernelspec": {
   "display_name": "Python 3",
   "language": "python",
   "name": "python3"
  },
  "language_info": {
   "codemirror_mode": {
    "name": "ipython",
    "version": 3
   },
   "file_extension": ".py",
   "mimetype": "text/x-python",
   "name": "python",
   "nbconvert_exporter": "python",
   "pygments_lexer": "ipython3",
   "version": "3.6.3"
  }
 },
 "nbformat": 4,
 "nbformat_minor": 2
}
