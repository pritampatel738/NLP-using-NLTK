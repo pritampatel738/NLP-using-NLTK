{
 "cells": [
  {
   "cell_type": "code",
   "execution_count": 1,
   "metadata": {
    "collapsed": true
   },
   "outputs": [],
   "source": [
    "import pandas as pd\n",
    "import numpy as np\n"
   ]
  },
  {
   "cell_type": "code",
   "execution_count": 2,
   "metadata": {
    "collapsed": true
   },
   "outputs": [],
   "source": [
    "data = pd.read_csv('Amazon_Unlocked_Mobile.csv')"
   ]
  },
  {
   "cell_type": "code",
   "execution_count": 3,
   "metadata": {},
   "outputs": [
    {
     "name": "stdout",
     "output_type": "stream",
     "text": [
      "                                        Product Name Brand Name   Price  \\\n",
      "0  \"CLEAR CLEAN ESN\" Sprint EPIC 4G Galaxy SPH-D7...    Samsung  199.99   \n",
      "1  \"CLEAR CLEAN ESN\" Sprint EPIC 4G Galaxy SPH-D7...    Samsung  199.99   \n",
      "2  \"CLEAR CLEAN ESN\" Sprint EPIC 4G Galaxy SPH-D7...    Samsung  199.99   \n",
      "3  \"CLEAR CLEAN ESN\" Sprint EPIC 4G Galaxy SPH-D7...    Samsung  199.99   \n",
      "4  \"CLEAR CLEAN ESN\" Sprint EPIC 4G Galaxy SPH-D7...    Samsung  199.99   \n",
      "\n",
      "   Rating                                            Reviews  Review Votes  \n",
      "0       5  I feel so LUCKY to have found this used (phone...           1.0  \n",
      "1       4  nice phone, nice up grade from my pantach revu...           0.0  \n",
      "2       5                                       Very pleased           0.0  \n",
      "3       4  It works good but it goes slow sometimes but i...           0.0  \n",
      "4       4  Great phone to replace my lost phone. The only...           0.0  \n"
     ]
    }
   ],
   "source": [
    "print(data.head())"
   ]
  },
  {
   "cell_type": "code",
   "execution_count": 6,
   "metadata": {},
   "outputs": [
    {
     "name": "stdout",
     "output_type": "stream",
     "text": [
      "383\n",
      "382075\n"
     ]
    }
   ],
   "source": [
    "data = data[data['Rating'] != 3]\n",
    "print(len(data['Brand Name'].unique()))\n",
    "print(len(data))"
   ]
  },
  {
   "cell_type": "code",
   "execution_count": 7,
   "metadata": {
    "scrolled": true
   },
   "outputs": [
    {
     "name": "stdout",
     "output_type": "stream",
     "text": [
      "4377\n"
     ]
    }
   ],
   "source": [
    "print(len(data['Product Name'].unique()))"
   ]
  },
  {
   "cell_type": "code",
   "execution_count": 8,
   "metadata": {},
   "outputs": [
    {
     "name": "stdout",
     "output_type": "stream",
     "text": [
      "                                        Product Name Brand Name   Price  \\\n",
      "0  \"CLEAR CLEAN ESN\" Sprint EPIC 4G Galaxy SPH-D7...    Samsung  199.99   \n",
      "1  \"CLEAR CLEAN ESN\" Sprint EPIC 4G Galaxy SPH-D7...    Samsung  199.99   \n",
      "2  \"CLEAR CLEAN ESN\" Sprint EPIC 4G Galaxy SPH-D7...    Samsung  199.99   \n",
      "3  \"CLEAR CLEAN ESN\" Sprint EPIC 4G Galaxy SPH-D7...    Samsung  199.99   \n",
      "4  \"CLEAR CLEAN ESN\" Sprint EPIC 4G Galaxy SPH-D7...    Samsung  199.99   \n",
      "\n",
      "   Rating                                            Reviews  Review Votes  \n",
      "0       5  I feel so LUCKY to have found this used (phone...           1.0  \n",
      "1       4  nice phone, nice up grade from my pantach revu...           0.0  \n",
      "2       5                                       Very pleased           0.0  \n",
      "3       4  It works good but it goes slow sometimes but i...           0.0  \n",
      "4       4  Great phone to replace my lost phone. The only...           0.0  \n"
     ]
    }
   ],
   "source": [
    "print(data.head())"
   ]
  },
  {
   "cell_type": "code",
   "execution_count": null,
   "metadata": {
    "collapsed": true
   },
   "outputs": [],
   "source": []
  },
  {
   "cell_type": "code",
   "execution_count": 9,
   "metadata": {
    "collapsed": true
   },
   "outputs": [],
   "source": [
    "data['Positively_Rated'] = np.where(data['Rating']>3,1,0)"
   ]
  },
  {
   "cell_type": "code",
   "execution_count": 10,
   "metadata": {
    "collapsed": true
   },
   "outputs": [],
   "source": [
    "target = data['Positively_Rated']"
   ]
  },
  {
   "cell_type": "code",
   "execution_count": null,
   "metadata": {
    "collapsed": true
   },
   "outputs": [],
   "source": []
  },
  {
   "cell_type": "code",
   "execution_count": 11,
   "metadata": {
    "collapsed": true
   },
   "outputs": [],
   "source": [
    "import matplotlib.pyplot as plt\n",
    "%matplotlib inline"
   ]
  },
  {
   "cell_type": "code",
   "execution_count": 12,
   "metadata": {},
   "outputs": [
    {
     "name": "stdout",
     "output_type": "stream",
     "text": [
      "count    376738.000000\n",
      "mean        230.279529\n",
      "std         274.499147\n",
      "min           1.730000\n",
      "25%          79.990000\n",
      "50%         149.950000\n",
      "75%         276.370000\n",
      "max        2598.000000\n",
      "Name: Price, dtype: float64\n"
     ]
    },
    {
     "data": {
      "text/plain": [
       "[<matplotlib.lines.Line2D at 0x7f3d30497400>]"
      ]
     },
     "execution_count": 12,
     "metadata": {},
     "output_type": "execute_result"
    },
    {
     "data": {
      "image/png": "[encoded data removed]",
      "text/plain": [
       "<matplotlib.figure.Figure at 0x7f3d3832ac88>"
      ]
     },
     "metadata": {},
     "output_type": "display_data"
    }
   ],
   "source": [
    "print(data['Price'].describe())\n",
    "plt.plot(data['Price'])"
   ]
  },
  {
   "cell_type": "code",
   "execution_count": 13,
   "metadata": {},
   "outputs": [
    {
     "name": "stdout",
     "output_type": "stream",
     "text": [
      "                                        Product Name Brand Name   Price  \\\n",
      "0  \"CLEAR CLEAN ESN\" Sprint EPIC 4G Galaxy SPH-D7...    Samsung  199.99   \n",
      "1  \"CLEAR CLEAN ESN\" Sprint EPIC 4G Galaxy SPH-D7...    Samsung  199.99   \n",
      "2  \"CLEAR CLEAN ESN\" Sprint EPIC 4G Galaxy SPH-D7...    Samsung  199.99   \n",
      "3  \"CLEAR CLEAN ESN\" Sprint EPIC 4G Galaxy SPH-D7...    Samsung  199.99   \n",
      "4  \"CLEAR CLEAN ESN\" Sprint EPIC 4G Galaxy SPH-D7...    Samsung  199.99   \n",
      "\n",
      "   Rating                                            Reviews  Review Votes  \\\n",
      "0       5  I feel so LUCKY to have found this used (phone...           1.0   \n",
      "1       4  nice phone, nice up grade from my pantach revu...           0.0   \n",
      "2       5                                       Very pleased           0.0   \n",
      "3       4  It works good but it goes slow sometimes but i...           0.0   \n",
      "4       4  Great phone to replace my lost phone. The only...           0.0   \n",
      "\n",
      "   Positively_Rated  \n",
      "0                 1  \n",
      "1                 1  \n",
      "2                 1  \n",
      "3                 1  \n",
      "4                 1  \n"
     ]
    }
   ],
   "source": [
    "print(data.head())"
   ]
  },
  {
   "cell_type": "code",
   "execution_count": 14,
   "metadata": {
    "collapsed": true
   },
   "outputs": [],
   "source": [
    "features = pd.DataFrame()\n",
    "features['Reviews'] = data['Reviews']"
   ]
  },
  {
   "cell_type": "code",
   "execution_count": 15,
   "metadata": {},
   "outputs": [
    {
     "name": "stdout",
     "output_type": "stream",
     "text": [
      "233\n"
     ]
    }
   ],
   "source": [
    "print(len(data['Review Votes'].unique()))"
   ]
  },
  {
   "cell_type": "code",
   "execution_count": 16,
   "metadata": {},
   "outputs": [
    {
     "name": "stdout",
     "output_type": "stream",
     "text": [
      "                                             Reviews\n",
      "0  I feel so LUCKY to have found this used (phone...\n",
      "1  nice phone, nice up grade from my pantach revu...\n",
      "2                                       Very pleased\n",
      "3  It works good but it goes slow sometimes but i...\n",
      "4  Great phone to replace my lost phone. The only...\n"
     ]
    }
   ],
   "source": [
    "print(features.head())"
   ]
  },
  {
   "cell_type": "code",
   "execution_count": 17,
   "metadata": {
    "collapsed": true
   },
   "outputs": [],
   "source": [
    "import nltk\n",
    "from nltk.tokenize import sent_tokenize,word_tokenize\n",
    "from nltk.stem import PorterStemmer,WordNetLemmatizer"
   ]
  },
  {
   "cell_type": "code",
   "execution_count": 18,
   "metadata": {
    "collapsed": true
   },
   "outputs": [],
   "source": [
    "new_feature = features['Reviews'][:10]"
   ]
  },
  {
   "cell_type": "code",
   "execution_count": 19,
   "metadata": {},
   "outputs": [
    {
     "name": "stdout",
     "output_type": "stream",
     "text": [
      "0    I feel so LUCKY to have found this used (phone...\n",
      "1    nice phone, nice up grade from my pantach revu...\n",
      "2                                         Very pleased\n",
      "3    It works good but it goes slow sometimes but i...\n",
      "4    Great phone to replace my lost phone. The only...\n",
      "Name: Reviews, dtype: object\n"
     ]
    }
   ],
   "source": [
    "print(new_feature.head())"
   ]
  },
  {
   "cell_type": "code",
   "execution_count": null,
   "metadata": {
    "collapsed": true
   },
   "outputs": [],
   "source": []
  },
  {
   "cell_type": "code",
   "execution_count": 20,
   "metadata": {},
   "outputs": [
    {
     "name": "stdout",
     "output_type": "stream",
     "text": [
      "I feel so LUCKY to have found this used (phone to us & not used hard at all), phone on line from someone who upgraded and sold this one. My Son liked his old one that finally fell apart after 2.5+ years and didn't want an upgrade!! Thank you Seller, we really appreciate it & your honesty re: said used phone.I recommend this seller very highly & would but from them again!!\n",
      "\n",
      "\n",
      "\n",
      "\n",
      "['I', 'feel', 'so', 'LUCKY', 'to', 'have', 'found', 'this', 'used', '(', 'phone', 'to', 'us', '&', 'not', 'used', 'hard', 'at', 'all', ')', ',', 'phone', 'on', 'line', 'from', 'someone', 'who', 'upgraded', 'and', 'sold', 'this', 'one', '.', 'My', 'Son', 'liked', 'his', 'old', 'one', 'that', 'finally', 'fell', 'apart', 'after', '2.5+', 'years', 'and', 'did', \"n't\", 'want', 'an', 'upgrade', '!', '!', 'Thank', 'you', 'Seller', ',', 'we', 'really', 'appreciate', 'it', '&', 'your', 'honesty', 're', ':', 'said', 'used', 'phone.I', 'recommend', 'this', 'seller', 'very', 'highly', '&', 'would', 'but', 'from', 'them', 'again', '!', '!']\n",
      "\n",
      "\n",
      "\n",
      "\n",
      "['i', 'feel', 'so', 'lucki', 'to', 'have', 'found', 'thi', 'use', '(', 'phone', 'to', 'us', '&', 'not', 'use', 'hard', 'at', 'all', ')', ',', 'phone', 'on', 'line', 'from', 'someon', 'who', 'upgrad', 'and', 'sold', 'thi', 'one', '.', 'my', 'son', 'like', 'hi', 'old', 'one', 'that', 'final', 'fell', 'apart', 'after', '2.5+', 'year', 'and', 'did', \"n't\", 'want', 'an', 'upgrad', '!', '!', 'thank', 'you', 'seller', ',', 'we', 'realli', 'appreci', 'it', '&', 'your', 'honesti', 're', ':', 'said', 'use', 'phone.i', 'recommend', 'thi', 'seller', 'veri', 'highli', '&', 'would', 'but', 'from', 'them', 'again', '!', '!']\n",
      "\n",
      "\n",
      "\n",
      "\n",
      "the returned array is \n",
      "\n",
      "i feel so lucki to have found thi use ( phone to us & not use hard at all ) , phone on line from someon who upgrad and sold thi one . my son like hi old one that final fell apart after 2.5+ year and did n't want an upgrad ! ! thank you seller , we realli appreci it & your honesti re : said use phone.i recommend thi seller veri highli & would but from them again ! ! \n"
     ]
    }
   ],
   "source": [
    "# take one sentence and change it to lower case and \n",
    "# then stem it and join (toughest part of the problem..)\n",
    "# and then append it to the dataframe ....\n",
    "\n",
    "sent = new_feature[0]\n",
    "print(sent)\n",
    "\n",
    "word = word_tokenize(sent)\n",
    "for i in range(4):\n",
    "    print()\n",
    "    \n",
    "print(word)\n",
    "\n",
    "s = PorterStemmer()\n",
    "\n",
    "arr = []\n",
    "\n",
    "for i in word:\n",
    "    i = i.lower()\n",
    "    i = s.stem(i)\n",
    "    arr.append(i)\n",
    "    \n",
    "for i in range(4):\n",
    "    print()\n",
    "print(arr)\n",
    "\n",
    "for i in range(4):\n",
    "    print()\n",
    "    \n",
    "    \n",
    "arr1 = \"\"\n",
    "for i in arr:\n",
    "    i += \" \"\n",
    "    arr1 += i\n",
    "    \n",
    "print(\"the returned array is \\n\")\n",
    "print(arr1)\n",
    "        "
   ]
  },
  {
   "cell_type": "code",
   "execution_count": null,
   "metadata": {
    "collapsed": true
   },
   "outputs": [],
   "source": []
  },
  {
   "cell_type": "code",
   "execution_count": 21,
   "metadata": {
    "collapsed": true
   },
   "outputs": [],
   "source": [
    "def lemmatizing(s):\n",
    "    # do the word_tokenize ..... \n",
    "    word = word_tokenize(s)\n",
    "    \n",
    "    # lemmatize all the words .....\n",
    "    arr = []\n",
    "    lemmatizer = WordNetLemmatizer()\n",
    "    for i in word:\n",
    "        j = \"\"\n",
    "        j = lemmatizer.lemmatize(j)\n",
    "        arr.append(j)\n",
    "        \n",
    "    # concatenate all the words together \n",
    "    arr1 = \"\"\n",
    "    for i in arr:\n",
    "        arr1 += \" \" + i\n",
    "        \n",
    "    return arr1"
   ]
  },
  {
   "cell_type": "code",
   "execution_count": 22,
   "metadata": {
    "collapsed": true
   },
   "outputs": [],
   "source": [
    "one = new_feature[0]"
   ]
  },
  {
   "cell_type": "code",
   "execution_count": 23,
   "metadata": {},
   "outputs": [
    {
     "name": "stdout",
     "output_type": "stream",
     "text": [
      "I feel so LUCKY to have found this used (phone to us & not used hard at all), phone on line from someone who upgraded and sold this one. My Son liked his old one that finally fell apart after 2.5+ years and didn't want an upgrade!! Thank you Seller, we really appreciate it & your honesty re: said used phone.I recommend this seller very highly & would but from them again!!\n",
      "\n",
      "\n",
      "\n",
      "\n",
      "                                                                                   \n"
     ]
    }
   ],
   "source": [
    "print(one)\n",
    "for i in range(4):\n",
    "    print()\n",
    "    \n",
    "print(lemmatizing(one))"
   ]
  },
  {
   "cell_type": "code",
   "execution_count": 24,
   "metadata": {
    "collapsed": true
   },
   "outputs": [],
   "source": [
    "lemma = WordNetLemmatizer()"
   ]
  },
  {
   "cell_type": "code",
   "execution_count": 25,
   "metadata": {},
   "outputs": [
    {
     "name": "stdout",
     "output_type": "stream",
     "text": [
      "I feel so LUCKY to have found this used (phone to us & not used hard at all), phone on line from someone who upgraded and sold this one. My Son liked his old one that finally fell apart after 2.5+ years and didn't want an upgrade!! Thank you Seller, we really appreciate it & your honesty re: said used phone.I recommend this seller very highly & would but from them again!!\n",
      "\n",
      "\n",
      "\n",
      "\n",
      "i feel so lucky to have found this used ( phone to u & not used hard at all ) , phone on line from someone who upgraded and sold this one . my son liked his old one that finally fell apart after 2.5+ year and did n't want an upgrade ! ! thank you seller , we really appreciate it & your honesty re : said used phone.i recommend this seller very highly & would but from them again ! ! "
     ]
    }
   ],
   "source": [
    "word = word_tokenize(one)\n",
    "print(one)\n",
    "for i in range(4):\n",
    "    print()\n",
    "for i in word:\n",
    "    i = i.lower()\n",
    "    print(lemma.lemmatize(i),end=\" \")"
   ]
  },
  {
   "cell_type": "code",
   "execution_count": null,
   "metadata": {
    "collapsed": true
   },
   "outputs": [],
   "source": []
  },
  {
   "cell_type": "code",
   "execution_count": 26,
   "metadata": {},
   "outputs": [
    {
     "name": "stdout",
     "output_type": "stream",
     "text": [
      "                                             Reviews\n",
      "0  I feel so LUCKY to have found this used (phone...\n",
      "1  nice phone, nice up grade from my pantach revu...\n",
      "2                                       Very pleased\n",
      "3  It works good but it goes slow sometimes but i...\n",
      "4  Great phone to replace my lost phone. The only...\n"
     ]
    }
   ],
   "source": [
    "print(features.head())"
   ]
  },
  {
   "cell_type": "code",
   "execution_count": 27,
   "metadata": {},
   "outputs": [
    {
     "name": "stdout",
     "output_type": "stream",
     "text": [
      "                                        Product Name Brand Name   Price  \\\n",
      "0  \"CLEAR CLEAN ESN\" Sprint EPIC 4G Galaxy SPH-D7...    Samsung  199.99   \n",
      "1  \"CLEAR CLEAN ESN\" Sprint EPIC 4G Galaxy SPH-D7...    Samsung  199.99   \n",
      "2  \"CLEAR CLEAN ESN\" Sprint EPIC 4G Galaxy SPH-D7...    Samsung  199.99   \n",
      "3  \"CLEAR CLEAN ESN\" Sprint EPIC 4G Galaxy SPH-D7...    Samsung  199.99   \n",
      "4  \"CLEAR CLEAN ESN\" Sprint EPIC 4G Galaxy SPH-D7...    Samsung  199.99   \n",
      "\n",
      "   Rating                                            Reviews  Review Votes  \\\n",
      "0       5  I feel so LUCKY to have found this used (phone...           1.0   \n",
      "1       4  nice phone, nice up grade from my pantach revu...           0.0   \n",
      "2       5                                       Very pleased           0.0   \n",
      "3       4  It works good but it goes slow sometimes but i...           0.0   \n",
      "4       4  Great phone to replace my lost phone. The only...           0.0   \n",
      "\n",
      "   Positively_Rated  \n",
      "0                 1  \n",
      "1                 1  \n",
      "2                 1  \n",
      "3                 1  \n",
      "4                 1  \n"
     ]
    }
   ],
   "source": [
    "print(data.head())"
   ]
  },
  {
   "cell_type": "code",
   "execution_count": 28,
   "metadata": {
    "collapsed": true
   },
   "outputs": [],
   "source": [
    "def stemming(s):\n",
    "    \n",
    "    \n",
    "    # convert it to word \n",
    "    word = word_tokenize(sent)\n",
    "    stem = PorterStemmer()\n",
    "    arr = []\n",
    "    for i in word:\n",
    "        i = i.lower()\n",
    "        i = stem.stem(i)\n",
    "        arr.append(i)\n",
    "        \n",
    "    arr1 = \"\"\n",
    "    for i in arr:\n",
    "        arr1 += \" \" + i\n",
    "    return arr1"
   ]
  },
  {
   "cell_type": "code",
   "execution_count": 29,
   "metadata": {},
   "outputs": [
    {
     "name": "stdout",
     "output_type": "stream",
     "text": [
      " i feel so lucki to have found thi use ( phone to us & not use hard at all ) , phone on line from someon who upgrad and sold thi one . my son like hi old one that final fell apart after 2.5+ year and did n't want an upgrad ! ! thank you seller , we realli appreci it & your honesti re : said use phone.i recommend thi seller veri highli & would but from them again ! !\n"
     ]
    }
   ],
   "source": [
    "string = features['Reviews'][0]\n",
    "string = str(string)\n",
    "print(stemming(string))"
   ]
  },
  {
   "cell_type": "code",
   "execution_count": 30,
   "metadata": {
    "collapsed": true
   },
   "outputs": [],
   "source": [
    "feature = map(stemming,features['Reviews'])"
   ]
  },
  {
   "cell_type": "code",
   "execution_count": 31,
   "metadata": {},
   "outputs": [
    {
     "name": "stdout",
     "output_type": "stream",
     "text": [
      "<map object at 0x7f3d19363208>\n"
     ]
    }
   ],
   "source": [
    "print(feature)"
   ]
  },
  {
   "cell_type": "code",
   "execution_count": 32,
   "metadata": {
    "collapsed": true
   },
   "outputs": [],
   "source": [
    "arr = []\n",
    "for i in features['Reviews']:\n",
    "    arr.append(i)"
   ]
  },
  {
   "cell_type": "code",
   "execution_count": 33,
   "metadata": {},
   "outputs": [
    {
     "name": "stdout",
     "output_type": "stream",
     "text": [
      "382075\n"
     ]
    }
   ],
   "source": [
    "print(len(arr))"
   ]
  },
  {
   "cell_type": "code",
   "execution_count": 34,
   "metadata": {},
   "outputs": [
    {
     "name": "stdout",
     "output_type": "stream",
     "text": [
      "382075\n"
     ]
    }
   ],
   "source": [
    "print(len(features['Reviews']))"
   ]
  },
  {
   "cell_type": "code",
   "execution_count": null,
   "metadata": {
    "collapsed": true
   },
   "outputs": [],
   "source": []
  },
  {
   "cell_type": "code",
   "execution_count": 35,
   "metadata": {},
   "outputs": [
    {
     "name": "stdout",
     "output_type": "stream",
     "text": [
      "[['This', 'is', 'the', 'first', 'sentence', '.'], ['This', 'is', 'the', 'second', 'one', '.'], ['And', 'this', 'is', 'the', 'last', 'one', '.']]\n"
     ]
    }
   ],
   "source": [
    "text = \"This is the first sentence. This is the second one. And this is the last one.\"\n",
    "sentences = sent_tokenize(text)\n",
    "words = [word_tokenize(sent) for sent in sentences]\n",
    "print(words)"
   ]
  },
  {
   "cell_type": "code",
   "execution_count": null,
   "metadata": {
    "collapsed": true
   },
   "outputs": [],
   "source": []
  },
  {
   "cell_type": "code",
   "execution_count": 36,
   "metadata": {},
   "outputs": [
    {
     "name": "stdout",
     "output_type": "stream",
     "text": [
      "                                             Reviews\n",
      "0  I feel so LUCKY to have found this used (phone...\n",
      "1  nice phone, nice up grade from my pantach revu...\n",
      "2                                       Very pleased\n",
      "3  It works good but it goes slow sometimes but i...\n",
      "4  Great phone to replace my lost phone. The only...\n"
     ]
    }
   ],
   "source": [
    "print(features.head())"
   ]
  },
  {
   "cell_type": "code",
   "execution_count": null,
   "metadata": {},
   "outputs": [],
   "source": []
  },
  {
   "cell_type": "code",
   "execution_count": 39,
   "metadata": {
    "collapsed": true
   },
   "outputs": [],
   "source": [
    "arr = []\n",
    "for i in features['Reviews']:\n",
    "    arr.append(i)"
   ]
  },
  {
   "cell_type": "code",
   "execution_count": 48,
   "metadata": {},
   "outputs": [
    {
     "name": "stdout",
     "output_type": "stream",
     "text": [
      "[\"I feel so LUCKY to have found this used (phone to us & not used hard at all), phone on line from someone who upgraded and sold this one. My Son liked his old one that finally fell apart after 2.5+ years and didn't want an upgrade!! Thank you Seller, we really appreciate it & your honesty re: said used phone.I recommend this seller very highly & would but from them again!!\", 'nice phone, nice up grade from my pantach revue. Very clean set up and easy set up. never had an android phone but they are fantastic to say the least. perfect size for surfing and social media. great phone samsung']\n"
     ]
    }
   ],
   "source": [
    "print(arr[:2])"
   ]
  },
  {
   "cell_type": "code",
   "execution_count": 53,
   "metadata": {},
   "outputs": [
    {
     "name": "stdout",
     "output_type": "stream",
     "text": [
      "                                        Product Name Brand Name   Price  \\\n",
      "0  \"CLEAR CLEAN ESN\" Sprint EPIC 4G Galaxy SPH-D7...    Samsung  199.99   \n",
      "1  \"CLEAR CLEAN ESN\" Sprint EPIC 4G Galaxy SPH-D7...    Samsung  199.99   \n",
      "2  \"CLEAR CLEAN ESN\" Sprint EPIC 4G Galaxy SPH-D7...    Samsung  199.99   \n",
      "3  \"CLEAR CLEAN ESN\" Sprint EPIC 4G Galaxy SPH-D7...    Samsung  199.99   \n",
      "4  \"CLEAR CLEAN ESN\" Sprint EPIC 4G Galaxy SPH-D7...    Samsung  199.99   \n",
      "\n",
      "   Rating                                            Reviews  Review Votes  \\\n",
      "0       5  I feel so LUCKY to have found this used (phone...           1.0   \n",
      "1       4  nice phone, nice up grade from my pantach revu...           0.0   \n",
      "2       5                                       Very pleased           0.0   \n",
      "3       4  It works good but it goes slow sometimes but i...           0.0   \n",
      "4       4  Great phone to replace my lost phone. The only...           0.0   \n",
      "\n",
      "   Positively_Rated  \n",
      "0                 1  \n",
      "1                 1  \n",
      "2                 1  \n",
      "3                 1  \n",
      "4                 1  \n"
     ]
    }
   ],
   "source": [
    "print(data.head())"
   ]
  },
  {
   "cell_type": "code",
   "execution_count": 54,
   "metadata": {},
   "outputs": [
    {
     "data": {
      "text/plain": [
       "0          i feel so lucki to have found thi use ( phone...\n",
       "1          i feel so lucki to have found thi use ( phone...\n",
       "2          i feel so lucki to have found thi use ( phone...\n",
       "3          i feel so lucki to have found thi use ( phone...\n",
       "4          i feel so lucki to have found thi use ( phone...\n",
       "5          i feel so lucki to have found thi use ( phone...\n",
       "6          i feel so lucki to have found thi use ( phone...\n",
       "7          i feel so lucki to have found thi use ( phone...\n",
       "8          i feel so lucki to have found thi use ( phone...\n",
       "11         i feel so lucki to have found thi use ( phone...\n",
       "12         i feel so lucki to have found thi use ( phone...\n",
       "13         i feel so lucki to have found thi use ( phone...\n",
       "14         i feel so lucki to have found thi use ( phone...\n",
       "15         i feel so lucki to have found thi use ( phone...\n",
       "16         i feel so lucki to have found thi use ( phone...\n",
       "17         i feel so lucki to have found thi use ( phone...\n",
       "18         i feel so lucki to have found thi use ( phone...\n",
       "20         i feel so lucki to have found thi use ( phone...\n",
       "21         i feel so lucki to have found thi use ( phone...\n",
       "22         i feel so lucki to have found thi use ( phone...\n",
       "23         i feel so lucki to have found thi use ( phone...\n",
       "24         i feel so lucki to have found thi use ( phone...\n",
       "25         i feel so lucki to have found thi use ( phone...\n",
       "27         i feel so lucki to have found thi use ( phone...\n",
       "28         i feel so lucki to have found thi use ( phone...\n",
       "29         i feel so lucki to have found thi use ( phone...\n",
       "30         i feel so lucki to have found thi use ( phone...\n",
       "31         i feel so lucki to have found thi use ( phone...\n",
       "32         i feel so lucki to have found thi use ( phone...\n",
       "33         i feel so lucki to have found thi use ( phone...\n",
       "                                ...                        \n",
       "413805     i feel so lucki to have found thi use ( phone...\n",
       "413806     i feel so lucki to have found thi use ( phone...\n",
       "413807     i feel so lucki to have found thi use ( phone...\n",
       "413808     i feel so lucki to have found thi use ( phone...\n",
       "413809     i feel so lucki to have found thi use ( phone...\n",
       "413810     i feel so lucki to have found thi use ( phone...\n",
       "413811     i feel so lucki to have found thi use ( phone...\n",
       "413812     i feel so lucki to have found thi use ( phone...\n",
       "413813     i feel so lucki to have found thi use ( phone...\n",
       "413814     i feel so lucki to have found thi use ( phone...\n",
       "413815     i feel so lucki to have found thi use ( phone...\n",
       "413816     i feel so lucki to have found thi use ( phone...\n",
       "413817     i feel so lucki to have found thi use ( phone...\n",
       "413819     i feel so lucki to have found thi use ( phone...\n",
       "413820     i feel so lucki to have found thi use ( phone...\n",
       "413821     i feel so lucki to have found thi use ( phone...\n",
       "413822     i feel so lucki to have found thi use ( phone...\n",
       "413823     i feel so lucki to have found thi use ( phone...\n",
       "413824     i feel so lucki to have found thi use ( phone...\n",
       "413825     i feel so lucki to have found thi use ( phone...\n",
       "413826     i feel so lucki to have found thi use ( phone...\n",
       "413827     i feel so lucki to have found thi use ( phone...\n",
       "413828     i feel so lucki to have found thi use ( phone...\n",
       "413830     i feel so lucki to have found thi use ( phone...\n",
       "413831     i feel so lucki to have found thi use ( phone...\n",
       "413832     i feel so lucki to have found thi use ( phone...\n",
       "413834     i feel so lucki to have found thi use ( phone...\n",
       "413835     i feel so lucki to have found thi use ( phone...\n",
       "413837     i feel so lucki to have found thi use ( phone...\n",
       "413839     i feel so lucki to have found thi use ( phone...\n",
       "Name: Reviews, Length: 382075, dtype: object"
      ]
     },
     "execution_count": 54,
     "metadata": {},
     "output_type": "execute_result"
    }
   ],
   "source": [
    "data['Reviews'].apply(stemming)"
   ]
  },
  {
   "cell_type": "code",
   "execution_count": 55,
   "metadata": {},
   "outputs": [
    {
     "name": "stdout",
     "output_type": "stream",
     "text": [
      "                                        Product Name Brand Name   Price  \\\n",
      "0  \"CLEAR CLEAN ESN\" Sprint EPIC 4G Galaxy SPH-D7...    Samsung  199.99   \n",
      "1  \"CLEAR CLEAN ESN\" Sprint EPIC 4G Galaxy SPH-D7...    Samsung  199.99   \n",
      "2  \"CLEAR CLEAN ESN\" Sprint EPIC 4G Galaxy SPH-D7...    Samsung  199.99   \n",
      "3  \"CLEAR CLEAN ESN\" Sprint EPIC 4G Galaxy SPH-D7...    Samsung  199.99   \n",
      "4  \"CLEAR CLEAN ESN\" Sprint EPIC 4G Galaxy SPH-D7...    Samsung  199.99   \n",
      "\n",
      "   Rating                                            Reviews  Review Votes  \\\n",
      "0       5  I feel so LUCKY to have found this used (phone...           1.0   \n",
      "1       4  nice phone, nice up grade from my pantach revu...           0.0   \n",
      "2       5                                       Very pleased           0.0   \n",
      "3       4  It works good but it goes slow sometimes but i...           0.0   \n",
      "4       4  Great phone to replace my lost phone. The only...           0.0   \n",
      "\n",
      "   Positively_Rated  \n",
      "0                 1  \n",
      "1                 1  \n",
      "2                 1  \n",
      "3                 1  \n",
      "4                 1  \n"
     ]
    }
   ],
   "source": [
    "print(data.head())"
   ]
  },
  {
   "cell_type": "code",
   "execution_count": null,
   "metadata": {
    "collapsed": true
   },
   "outputs": [],
   "source": []
  },
  {
   "cell_type": "code",
   "execution_count": null,
   "metadata": {
    "collapsed": true
   },
   "outputs": [],
   "source": []
  },
  {
   "cell_type": "code",
   "execution_count": null,
   "metadata": {
    "collapsed": true
   },
   "outputs": [],
   "source": []
  },
  {
   "cell_type": "code",
   "execution_count": null,
   "metadata": {
    "collapsed": true
   },
   "outputs": [],
   "source": [
    "from sklearn.feature_extraction.text import TfidfVectorizer,CountVectorizer"
   ]
  },
  {
   "cell_type": "code",
   "execution_count": null,
   "metadata": {
    "collapsed": true
   },
   "outputs": [],
   "source": [
    "cnt_vect = CountVectorizer(1,3).fit(features)"
   ]
  },
  {
   "cell_type": "code",
   "execution_count": null,
   "metadata": {
    "collapsed": true
   },
   "outputs": [],
   "source": [
    "tfidf_vect = TfidfVectorizer(ngram_range=(1,3)).fit(features)"
   ]
  },
  {
   "cell_type": "code",
   "execution_count": null,
   "metadata": {
    "collapsed": true
   },
   "outputs": [],
   "source": [
    "print(cnt_vect)"
   ]
  },
  {
   "cell_type": "code",
   "execution_count": null,
   "metadata": {
    "collapsed": true
   },
   "outputs": [],
   "source": [
    "print(tfidf_vect)"
   ]
  },
  {
   "cell_type": "code",
   "execution_count": null,
   "metadata": {
    "collapsed": true
   },
   "outputs": [],
   "source": []
  },
  {
   "cell_type": "code",
   "execution_count": null,
   "metadata": {
    "collapsed": true
   },
   "outputs": [],
   "source": []
  },
  {
   "cell_type": "code",
   "execution_count": null,
   "metadata": {
    "collapsed": true
   },
   "outputs": [],
   "source": []
  },
  {
   "cell_type": "code",
   "execution_count": null,
   "metadata": {
    "collapsed": true
   },
   "outputs": [],
   "source": []
  },
  {
   "cell_type": "code",
   "execution_count": null,
   "metadata": {
    "collapsed": true
   },
   "outputs": [],
   "source": []
  }
 ],
 "metadata": {
  "kernelspec": {
   "display_name": "Python 3",
   "language": "python",
   "name": "python3"
  },
  "language_info": {
   "codemirror_mode": {
    "name": "ipython",
    "version": 3
   },
   "file_extension": ".py",
   "mimetype": "text/x-python",
   "name": "python",
   "nbconvert_exporter": "python",
   "pygments_lexer": "ipython3",
   "version": "3.6.3"
  }
 },
 "nbformat": 4,
 "nbformat_minor": 2
}
